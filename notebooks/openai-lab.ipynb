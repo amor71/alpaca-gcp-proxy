{
 "cells": [
  {
   "cell_type": "markdown",
   "id": "87117294",
   "metadata": {},
   "source": [
    "# OPENAI LAB"
   ]
  },
  {
   "cell_type": "code",
   "execution_count": 25,
   "id": "e3f9f675",
   "metadata": {},
   "outputs": [],
   "source": [
    "import openai\n",
    "import json\n",
    "import os\n",
    "import pandas as pd\n",
    "\n",
    "openai.api_key = os.getenv(\"OPENAI_API_KEY\")"
   ]
  },
  {
   "cell_type": "markdown",
   "id": "4b30394a",
   "metadata": {},
   "source": [
    "## Models"
   ]
  },
  {
   "cell_type": "code",
   "execution_count": 2,
   "id": "b73e3735",
   "metadata": {},
   "outputs": [],
   "source": [
    "def list_models() -> list[str]:\n",
    "    \"\"\"Generate list of all models\"\"\"\n",
    "    response = openai.Model.list()\n",
    "    print(response)\n",
    "    return [x[\"id\"] for x in response[\"data\"] if x[\"object\"] == \"model\"]"
   ]
  },
  {
   "cell_type": "code",
   "execution_count": 32,
   "id": "8111d571",
   "metadata": {},
   "outputs": [],
   "source": [
    "# Models per end-point according to documentation (somehow it's not the same as the `list`)\n",
    "chat_models = [\"gpt-4\", \"gpt-4-0314\", \"gpt-4-32k\", \"gpt-4-32k-0314\", \"gpt-3.5-turbo\", \"gpt-3.5-turbo-0301\"]\n",
    "models = [\"text-davinci-003\", \"text-davinci-002\", \"text-curie-001\", \"text-babbage-001\", \"text-ada-001\"]"
   ]
  },
  {
   "cell_type": "markdown",
   "id": "e90320f8",
   "metadata": {},
   "source": [
    "## Questions"
   ]
  },
  {
   "cell_type": "code",
   "execution_count": 64,
   "id": "bd679ba6",
   "metadata": {},
   "outputs": [],
   "source": [
    "questions = [\n",
    "    \"I want to transfer $100 to my long term portfolio\",\n",
    "    \"I what to know the composition of my short term investment portfolio\",\n",
    "    \"how much money did I make so far\",\n",
    "]"
   ]
  },
  {
   "cell_type": "markdown",
   "id": "1b293658",
   "metadata": {},
   "source": [
    "### Compare results of different models"
   ]
  },
  {
   "cell_type": "code",
   "execution_count": 65,
   "id": "4901363f",
   "metadata": {},
   "outputs": [],
   "source": [
    "def infer_intent(model: str, text: str, temprature: float = 0.2) -> str:\n",
    "    response = openai.Completion.create(\n",
    "        engine=model, prompt=f\"{text}\\n\\nIntent:\", temperature=temprature, max_tokens=60\n",
    "    )\n",
    "    # Extract and print the generated text\n",
    "    generated_text = response.choices[0].text.strip()\n",
    "\n",
    "    return generated_text"
   ]
  },
  {
   "cell_type": "code",
   "execution_count": 68,
   "id": "08ce3997",
   "metadata": {},
   "outputs": [
    {
     "data": {
      "text/html": [
       "<div>\n",
       "<style scoped>\n",
       "    .dataframe tbody tr th:only-of-type {\n",
       "        vertical-align: middle;\n",
       "    }\n",
       "\n",
       "    .dataframe tbody tr th {\n",
       "        vertical-align: top;\n",
       "    }\n",
       "\n",
       "    .dataframe thead th {\n",
       "        text-align: right;\n",
       "    }\n",
       "</style>\n",
       "<table border=\"1\" class=\"dataframe\">\n",
       "  <thead>\n",
       "    <tr style=\"text-align: right;\">\n",
       "      <th></th>\n",
       "      <th>text-davinci-003</th>\n",
       "      <th>text-davinci-002</th>\n",
       "      <th>text-curie-001</th>\n",
       "      <th>text-babbage-001</th>\n",
       "      <th>text-ada-001</th>\n",
       "    </tr>\n",
       "  </thead>\n",
       "  <tbody>\n",
       "    <tr>\n",
       "      <th>I want to transfer $100 to my long term portfolio</th>\n",
       "      <td>TransferMoney\\n\\nEntities: \\nAmount: $100\\nDestination: Long Term Portfolio</td>\n",
       "      <td>I want to transfer $100 from my checking account to my long-term investment portfolio.</td>\n",
       "      <td>To transfer $100 to my long term portfolio\\n\\nStep 1: Open a bank account\\n\\nOpen a bank account and deposit $100 into it.\\n\\nStep 2: Transfer the money to your long term portfolio\\n\\nTransfer the $100 to your long term portfolio.</td>\n",
       "      <td>To transfer $100 to my long term portfolio\\n\\nAmount: $100</td>\n",
       "      <td>$100\\n\\nI want to transfer $100 to my long term portfolio.</td>\n",
       "    </tr>\n",
       "    <tr>\n",
       "      <th>I what to know the composition of my short term investment portfolio</th>\n",
       "      <td>The composition of your short term investment portfolio will depend on your individual goals and risk tolerance. Generally, short term investments should be relatively low risk and liquid, such as money market funds, certificates of deposit, and short-term bonds. You may also want to consider investing in stocks, mutual</td>\n",
       "      <td>To find out the composition of my short term investment portfolio\\n\\nMethod:\\n\\n1. Look at your investment portfolio and identify the different asset types that you have invested in.\\n\\n2. Determine the percentage of your portfolio that each asset type represents.\\n\\n3. Compare</td>\n",
       "      <td>To have a diversified portfolio of short-term investments that will provide me with consistent returns over the short term.\\n\\nAsset Class:\\n\\nShort-term investments can be made in a variety of different asset classes, including stocks, bonds, and cash. It is important to have</td>\n",
       "      <td>To answer this question, we need to know what your short term investment portfolio consists of. This could include money that you plan to use to invest in stocks, bonds, or other assets.</td>\n",
       "      <td>Investing\\n\\nYour investment portfolio should have a mix of both new and experienced stocks, as well as stocks that are well-known and popular. You should also be looking at stocks that are expected to grow, and stocks that are known to be undervalued.</td>\n",
       "    </tr>\n",
       "    <tr>\n",
       "      <th>how much money did I make so far</th>\n",
       "      <td>This question is not answerable without more information. How much money you have made so far depends on what type of job you have, how long you have been working, and other factors.</td>\n",
       "      <td>To find out how much money the user has made\\n\\nEntity:\\n\\nmoney\\n\\nIntent:\\n\\nTo find out how much money the user has made\\n\\nEntity:\\n\\nmoney</td>\n",
       "      <td>To find out how much money the speaker has made so far.\\n\\nThe speaker has made $10,000 so far.</td>\n",
       "      <td>To calculate the total amount of money that has been earned so far.\\n\\nAmount earned so far: $101.06</td>\n",
       "      <td>To calculate one's money making experience.</td>\n",
       "    </tr>\n",
       "  </tbody>\n",
       "</table>\n",
       "</div>"
      ],
      "text/plain": [
       "                                                                                                                                                                                                                                                                                                                                                                                       text-davinci-003                                                                                                                                                                                                                                                                        text-davinci-002                                                                                                                                                                                                                                                                         text-curie-001  \\\n",
       "I want to transfer $100 to my long term portfolio                                                                                                                                                                                                                                                                           TransferMoney\\n\\nEntities: \\nAmount: $100\\nDestination: Long Term Portfolio                                                                                                                                                                                                  I want to transfer $100 from my checking account to my long-term investment portfolio.                                                 To transfer $100 to my long term portfolio\\n\\nStep 1: Open a bank account\\n\\nOpen a bank account and deposit $100 into it.\\n\\nStep 2: Transfer the money to your long term portfolio\\n\\nTransfer the $100 to your long term portfolio.   \n",
       "I what to know the composition of my short term investment portfolio  The composition of your short term investment portfolio will depend on your individual goals and risk tolerance. Generally, short term investments should be relatively low risk and liquid, such as money market funds, certificates of deposit, and short-term bonds. You may also want to consider investing in stocks, mutual  To find out the composition of my short term investment portfolio\\n\\nMethod:\\n\\n1. Look at your investment portfolio and identify the different asset types that you have invested in.\\n\\n2. Determine the percentage of your portfolio that each asset type represents.\\n\\n3. Compare  To have a diversified portfolio of short-term investments that will provide me with consistent returns over the short term.\\n\\nAsset Class:\\n\\nShort-term investments can be made in a variety of different asset classes, including stocks, bonds, and cash. It is important to have   \n",
       "how much money did I make so far                                                                                                                                                                                 This question is not answerable without more information. How much money you have made so far depends on what type of job you have, how long you have been working, and other factors.                                                                                                                                         To find out how much money the user has made\\n\\nEntity:\\n\\nmoney\\n\\nIntent:\\n\\nTo find out how much money the user has made\\n\\nEntity:\\n\\nmoney                                                                                                                                                                                        To find out how much money the speaker has made so far.\\n\\nThe speaker has made $10,000 so far.   \n",
       "\n",
       "                                                                                                                                                                                                                                                text-babbage-001                                                                                                                                                                                                                                                  text-ada-001  \n",
       "I want to transfer $100 to my long term portfolio                                                                                                                                                     To transfer $100 to my long term portfolio\\n\\nAmount: $100                                                                                                                                                                                                    $100\\n\\nI want to transfer $100 to my long term portfolio.  \n",
       "I what to know the composition of my short term investment portfolio  To answer this question, we need to know what your short term investment portfolio consists of. This could include money that you plan to use to invest in stocks, bonds, or other assets.  Investing\\n\\nYour investment portfolio should have a mix of both new and experienced stocks, as well as stocks that are well-known and popular. You should also be looking at stocks that are expected to grow, and stocks that are known to be undervalued.  \n",
       "how much money did I make so far                                                                                                                            To calculate the total amount of money that has been earned so far.\\n\\nAmount earned so far: $101.06                                                                                                                                                                                                                   To calculate one's money making experience.  "
      ]
     },
     "execution_count": 68,
     "metadata": {},
     "output_type": "execute_result"
    }
   ],
   "source": [
    "pd.set_option('display.max_colwidth', 1000)\n",
    "pd.DataFrame(\n",
    "    {\n",
    "     model: [infer_intent(model, question) for question in questions] for model in models\n",
    "    }, index=questions\n",
    ")"
   ]
  },
  {
   "cell_type": "code",
   "execution_count": null,
   "id": "099c2601",
   "metadata": {},
   "outputs": [],
   "source": []
  }
 ],
 "metadata": {
  "kernelspec": {
   "display_name": "Python 3 (ipykernel)",
   "language": "python",
   "name": "python3"
  },
  "language_info": {
   "codemirror_mode": {
    "name": "ipython",
    "version": 3
   },
   "file_extension": ".py",
   "mimetype": "text/x-python",
   "name": "python",
   "nbconvert_exporter": "python",
   "pygments_lexer": "ipython3",
   "version": "3.11.0"
  }
 },
 "nbformat": 4,
 "nbformat_minor": 5
}
