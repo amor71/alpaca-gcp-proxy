{
 "cells": [
  {
   "cell_type": "code",
   "execution_count": null,
   "id": "9a4b6e9a",
   "metadata": {},
   "outputs": [],
   "source": [
    "import pandas as pd"
   ]
  },
  {
   "cell_type": "code",
   "execution_count": null,
   "id": "fe2944af",
   "metadata": {},
   "outputs": [],
   "source": [
    "initial_investment = 100.0\n",
    "weekly_topup = 50.0\n",
    "annual_interest = 0.1\n",
    "num_weeks = 52 * 30"
   ]
  },
  {
   "cell_type": "code",
   "execution_count": null,
   "id": "5e29e831",
   "metadata": {},
   "outputs": [],
   "source": [
    "weekly_interest = (annual_interest / 52)"
   ]
  },
  {
   "cell_type": "code",
   "execution_count": null,
   "id": "18160136",
   "metadata": {},
   "outputs": [],
   "source": [
    "deposit = [weekly_topup] * num_weeks\n",
    "deposit[0] += initial_investment\n",
    "rate = [weekly_interest] * num_weeks"
   ]
  },
  {
   "cell_type": "code",
   "execution_count": null,
   "id": "f5bd9768",
   "metadata": {},
   "outputs": [],
   "source": [
    "df = pd.DataFrame({ 'deposit':deposit, 'rate':rate})\n",
    "df['total'] = (df['deposit'] * df['rate'].shift().add(1).cumprod().fillna(1)).cumsum()"
   ]
  },
  {
   "cell_type": "code",
   "execution_count": null,
   "id": "69a2fde7",
   "metadata": {},
   "outputs": [],
   "source": [
    "df['year'] = df.index // 52"
   ]
  },
  {
   "cell_type": "code",
   "execution_count": null,
   "id": "e24dc3e6",
   "metadata": {},
   "outputs": [],
   "source": [
    "new_df = pd.DataFrame({\"deposit\":df.groupby('year').sum()['deposit'].cumsum(), 'amount':df.groupby('year').last()['total']})"
   ]
  },
  {
   "cell_type": "code",
   "execution_count": null,
   "id": "b49af3b0",
   "metadata": {},
   "outputs": [],
   "source": [
    "new_df"
   ]
  },
  {
   "cell_type": "code",
   "execution_count": null,
   "id": "384200aa",
   "metadata": {},
   "outputs": [],
   "source": [
    "new_df.values.tolist()"
   ]
  },
  {
   "cell_type": "markdown",
   "id": "9e420a5b",
   "metadata": {},
   "source": [
    "## Consolidate into Bins"
   ]
  },
  {
   "cell_type": "code",
   "execution_count": null,
   "id": "d341ce3c",
   "metadata": {},
   "outputs": [],
   "source": [
    "num_bins = 10\n",
    "initial_investment = 100.0\n",
    "weekly_topup = 50.0\n",
    "annual_interest = 0.1\n",
    "num_weeks = 52 * 30\n",
    "weekly_interest = (annual_interest / 52)"
   ]
  },
  {
   "cell_type": "code",
   "execution_count": null,
   "id": "6907c185",
   "metadata": {},
   "outputs": [],
   "source": [
    "deposit = [weekly_topup] * num_weeks\n",
    "deposit[0] += initial_investment\n",
    "rate = [weekly_interest] * num_weeks"
   ]
  },
  {
   "cell_type": "code",
   "execution_count": null,
   "id": "55d8f67b",
   "metadata": {},
   "outputs": [],
   "source": [
    "df = pd.DataFrame({ 'deposit':deposit, 'rate':rate})\n",
    "df['total'] = (df['deposit'] * df['rate'].shift().add(1).cumprod().fillna(1)).cumsum()"
   ]
  },
  {
   "cell_type": "code",
   "execution_count": null,
   "id": "a4663ef5",
   "metadata": {},
   "outputs": [],
   "source": [
    "df['bin'] = df.index // (num_weeks / num_bins)"
   ]
  },
  {
   "cell_type": "code",
   "execution_count": null,
   "id": "b302d166",
   "metadata": {},
   "outputs": [],
   "source": [
    "new_df = pd.DataFrame(\n",
    "    {\n",
    "        \"deposit\": df.groupby(\"bin\").sum()[\"deposit\"].cumsum(),\n",
    "        \"amount\": df.groupby(\"bin\").last()[\"total\"],\n",
    "    }\n",
    ")"
   ]
  },
  {
   "cell_type": "code",
   "execution_count": null,
   "id": "0d0f31d1",
   "metadata": {},
   "outputs": [],
   "source": [
    "new_df"
   ]
  }
 ],
 "metadata": {
  "kernelspec": {
   "display_name": "Python 3 (ipykernel)",
   "language": "python",
   "name": "python3"
  },
  "language_info": {
   "codemirror_mode": {
    "name": "ipython",
    "version": 3
   },
   "file_extension": ".py",
   "mimetype": "text/x-python",
   "name": "python",
   "nbconvert_exporter": "python",
   "pygments_lexer": "ipython3"
  }
 },
 "nbformat": 4,
 "nbformat_minor": 5
}
