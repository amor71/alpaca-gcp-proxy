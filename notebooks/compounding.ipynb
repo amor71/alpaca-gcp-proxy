{
 "cells": [
  {
   "cell_type": "code",
   "execution_count": null,
   "id": "9a4b6e9a",
   "metadata": {},
   "outputs": [],
   "source": [
    "import pandas as pd"
   ]
  },
  {
   "cell_type": "code",
   "execution_count": null,
   "id": "fe2944af",
   "metadata": {},
   "outputs": [],
   "source": [
    "initial_investment = 100.0\n",
    "weekly_topup = 50.0\n",
    "annual_interest = 0.1\n",
    "num_weeks = 52 * 30"
   ]
  },
  {
   "cell_type": "code",
   "execution_count": null,
   "id": "5e29e831",
   "metadata": {},
   "outputs": [],
   "source": [
    "weekly_interest = (annual_interest / 52)"
   ]
  },
  {
   "cell_type": "code",
   "execution_count": null,
   "id": "18160136",
   "metadata": {},
   "outputs": [],
   "source": [
    "deposit = [weekly_topup] * num_weeks\n",
    "deposit[0] += initial_investment\n",
    "rate = [weekly_interest] * num_weeks"
   ]
  },
  {
   "cell_type": "code",
   "execution_count": null,
   "id": "f5bd9768",
   "metadata": {},
   "outputs": [],
   "source": [
    "df = pd.DataFrame({ 'deposit':deposit, 'rate':rate})\n",
    "df['total'] = (df['deposit'] * df['rate'].shift().add(1).cumprod().fillna(1)).cumsum()"
   ]
  },
  {
   "cell_type": "code",
   "execution_count": null,
   "id": "69a2fde7",
   "metadata": {},
   "outputs": [],
   "source": [
    "df"
   ]
  },
  {
   "cell_type": "code",
   "execution_count": null,
   "id": "c0922106",
   "metadata": {},
   "outputs": [],
   "source": [
    "total_deposit = df['deposit'].sum()\n",
    "total_from_investment = df['total'].iloc[-1]- total_deposit"
   ]
  },
  {
   "cell_type": "code",
   "execution_count": null,
   "id": "9bb77bcb",
   "metadata": {},
   "outputs": [],
   "source": [
    "total_deposit, total_from_investment, 100 * total_from_investment / total_deposit"
   ]
  }
 ],
 "metadata": {
  "kernelspec": {
   "display_name": "Python 3 (ipykernel)",
   "language": "python",
   "name": "python3"
  },
  "language_info": {
   "codemirror_mode": {
    "name": "ipython",
    "version": 3
   },
   "file_extension": ".py",
   "mimetype": "text/x-python",
   "name": "python",
   "nbconvert_exporter": "python",
   "pygments_lexer": "ipython3"
  }
 },
 "nbformat": 4,
 "nbformat_minor": 5
}
