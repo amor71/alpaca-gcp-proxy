{
 "cells": [
  {
   "cell_type": "markdown",
   "id": "a8e8045e",
   "metadata": {},
   "source": [
    "# Load \"assets\" details using Alpaca APIs"
   ]
  },
  {
   "cell_type": "markdown",
   "id": "64903007",
   "metadata": {},
   "source": [
    "### Read Alapca-API credentials from env variables"
   ]
  },
  {
   "cell_type": "code",
   "execution_count": null,
   "id": "b0f914d7",
   "metadata": {},
   "outputs": [],
   "source": [
    "import os\n",
    "api_key = os.getenv(\"APCA_API_KEY_ID\")\n",
    "api_secret = os.getenv(\"APCA_API_SECRET_KEY\")\n",
    "assert api_key and api_secret, \"Missing Alpaca API credentials\""
   ]
  },
  {
   "cell_type": "markdown",
   "id": "61db5e91",
   "metadata": {},
   "source": [
    "### Setup Alpaca API"
   ]
  },
  {
   "cell_type": "code",
   "execution_count": null,
   "id": "225904b1",
   "metadata": {},
   "outputs": [],
   "source": [
    "import pandas as pd\n",
    "from alpaca.trading.client import TradingClient\n",
    "from alpaca.trading.requests import GetAssetsRequest\n",
    "from alpaca.trading.enums import AssetClass, AssetStatus"
   ]
  },
  {
   "cell_type": "code",
   "execution_count": null,
   "id": "56d2647e",
   "metadata": {},
   "outputs": [],
   "source": [
    "trading_client = TradingClient(api_key, api_secret)\n",
    "assert trading_client, \"Alpaca client creation failed\""
   ]
  },
  {
   "cell_type": "code",
   "execution_count": null,
   "id": "d833ca14",
   "metadata": {},
   "outputs": [],
   "source": [
    "# search for crypto assets\n",
    "search_params = GetAssetsRequest(\n",
    "    asset_class=AssetClass.US_EQUITY, status=AssetStatus.ACTIVE\n",
    ")\n",
    "\n",
    "assets = trading_client.get_all_assets(search_params)"
   ]
  },
  {
   "cell_type": "code",
   "execution_count": null,
   "id": "3d2ef9a9",
   "metadata": {},
   "outputs": [],
   "source": [
    "assets_df = pd.DataFrame([asset.__dict__ for asset in assets])"
   ]
  },
  {
   "cell_type": "code",
   "execution_count": null,
   "id": "c7b91c05",
   "metadata": {},
   "outputs": [],
   "source": [
    "assets_df"
   ]
  }
 ],
 "metadata": {
  "kernelspec": {
   "display_name": "Python 3 (ipykernel)",
   "language": "python",
   "name": "python3"
  },
  "language_info": {
   "codemirror_mode": {
    "name": "ipython",
    "version": 3
   },
   "file_extension": ".py",
   "mimetype": "text/x-python",
   "name": "python",
   "nbconvert_exporter": "python",
   "pygments_lexer": "ipython3"
  }
 },
 "nbformat": 4,
 "nbformat_minor": 5
}
